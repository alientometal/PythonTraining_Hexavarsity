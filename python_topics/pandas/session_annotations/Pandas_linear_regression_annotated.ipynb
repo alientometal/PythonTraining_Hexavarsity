{
 "cells": [
  {
   "attachments": {},
   "cell_type": "markdown",
   "metadata": {},
   "source": [
    "# Linear regression with Scipy over Pandas data"
   ]
  },
  {
   "cell_type": "code",
   "execution_count": 4,
   "metadata": {},
   "outputs": [
    {
     "name": "stdout",
     "output_type": "stream",
     "text": [
      "Slope: 109.77\n",
      "Intercept: 98248.32962138086\n",
      "R-value: 0.7621137132162578\n",
      "P-value: 0.010394016376015478\n",
      "Standard error: 32.969443262146655\n"
     ]
    }
   ],
   "source": [
    "import pandas as pd\n",
    "import numpy as np\n",
    "from scipy import stats\n",
    "import matplotlib.pyplot as plt\n",
    "\n",
    "# create a sample dataframe\n",
    "# Square footage of houses\n",
    "x = [1400, 1600, 1700, 1875, 1100, 1550, 2350, 2450, 1425, 1700]\n",
    "# Price of houses\n",
    "y = [245000, 312000, 279000, 308000, 199000, 219000, 405000, 324000, 319000, 255000]\n",
    "\n",
    "df = pd.DataFrame({'x': x, 'y': y})\n",
    "\n",
    "# perform linear regression using Scipy\n",
    "slope, intercept, r_value, p_value, std_err = stats.linregress(df['x'], df['y'])\n",
    "\n",
    "# print the results\n",
    "print(\"Slope:\", round(slope, 2))\n",
    "print(\"Intercept:\", intercept)\n",
    "print(\"R-value:\", r_value)\n",
    "print(\"P-value:\", p_value)\n",
    "print(\"Standard error:\", std_err)"
   ]
  },
  {
   "cell_type": "code",
   "execution_count": null,
   "metadata": {},
   "outputs": [],
   "source": [
    "stats.multi"
   ]
  },
  {
   "cell_type": "code",
   "execution_count": 5,
   "metadata": {},
   "outputs": [
    {
     "data": {
      "image/png": "[encoded data removed]",
      "text/plain": [
       "<Figure size 432x288 with 1 Axes>"
      ]
     },
     "metadata": {
      "needs_background": "light"
     },
     "output_type": "display_data"
    }
   ],
   "source": [
    "x_range = np.linspace(np.min(x), np.max(x), 100)\n",
    "y_pred = slope*x_range + intercept\n",
    "\n",
    "ax = df.plot(kind='scatter', x='x', y='y')\n",
    "\n",
    "ax.plot(x_range, y_pred, color='red')\n",
    "\n",
    "plt.xlabel('Square Footage')\n",
    "plt.ylabel('Price')\n",
    "plt.show()"
   ]
  },
  {
   "attachments": {},
   "cell_type": "markdown",
   "metadata": {},
   "source": [
    "In this example, we create a sample Pandas DataFrame with two columns (`x` and `y`). We then use Scipy's `linregress` function to perform linear regression on the data, which returns the slope, intercept, correlation coefficient (`r_value`), p-value (`p_value`), and standard error of the estimate (`std_err`). "
   ]
  },
  {
   "attachments": {},
   "cell_type": "markdown",
   "metadata": {},
   "source": [
    "> Content created by **Carlos Cruz-Maldonado**.  \n",
    "> Feel free to ping me at any time."
   ]
  }
 ],
 "metadata": {
  "kernelspec": {
   "display_name": "personal",
   "language": "python",
   "name": "python3"
  },
  "language_info": {
   "codemirror_mode": {
    "name": "ipython",
    "version": 3
   },
   "file_extension": ".py",
   "mimetype": "text/x-python",
   "name": "python",
   "nbconvert_exporter": "python",
   "pygments_lexer": "ipython3",
   "version": "3.9.12"
  },
  "orig_nbformat": 4
 },
 "nbformat": 4,
 "nbformat_minor": 2
}
